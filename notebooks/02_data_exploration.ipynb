{
 "cells": [
  {
   "cell_type": "code",
   "execution_count": null,
   "metadata": {},
   "outputs": [],
   "source": [
    "import pandas as pd\n",
    "import os\n",
    "import sys\n",
    "\n",
    "sys.path.append(os.path.abspath(os.path.join(os.path.dirname(\"notebooks\"), '..')))\n",
    "\n",
    "from utils.func_preprocessing import *\n",
    "from utils.func_classification import *\n",
    "from utils.utils import plot_feature_distribution, map_diagn_out\n",
    "\n",
    "\n",
    "import seaborn as sns\n",
    "import matplotlib.pyplot as plt\n",
    "import pandas as pd\n",
    "import numpy as np\n",
    "\n",
    "from sklearn.preprocessing import MinMaxScaler\n",
    "\n",
    "from config.config import DATASET_NAME, N_CLASS\n",
    "\n",
    "import ipywidgets as widgets\n",
    "from ipywidgets import Output\n",
    "\n",
    "from IPython.display import display, clear_output"
   ]
  },
  {
   "cell_type": "code",
   "execution_count": null,
   "metadata": {},
   "outputs": [],
   "source": [
    "df = pd.read_csv(f\"../dataset/{DATASET_NAME}.csv\")\n",
    "# Drop 'Unnamed: 0' column if it exists\n",
    "if \"Unnamed: 0\" in df.columns:\n",
    "    df = df.drop(columns=[\"Unnamed: 0\"])"
   ]
  },
  {
   "cell_type": "code",
   "execution_count": null,
   "metadata": {},
   "outputs": [],
   "source": [
    "if N_CLASS == 6:\n",
    "    df['y'] = df.apply(lambda row: class_macropat_letteremappate(row['lettera_diagnosi_princip'], row['intero_diagnosi_princip']), axis=1)\n",
    "    df['y'] = df.y.apply(reduce_6class_letteremappate)\n",
    "    df['y_desc'] = df.y.apply(map_diagn_out)"
   ]
  },
  {
   "cell_type": "code",
   "execution_count": null,
   "metadata": {},
   "outputs": [],
   "source": [
    "df.shape"
   ]
  },
  {
   "cell_type": "markdown",
   "metadata": {},
   "source": [
    "### Correlation Matrix"
   ]
  },
  {
   "cell_type": "code",
   "execution_count": null,
   "metadata": {},
   "outputs": [],
   "source": [
    "# Calcolo della matrice di correlazione\n",
    "df_corr = df[['PF', 'PO2_T', 'P50_ACT', 'TO2', 'HCT', 'AG_K',\n",
    "       'THB', 'THB2', 'GLU', 'LAC', 'PO2', 'HCO3', 'PCO2_T', 'PCO2', 'MOSM',\n",
    "       'KP', 'NA', 'CL', 'CBASE', 'METHB', 'PHT', 'PH', 'O2HB', 'COHB', 'RHB',\n",
    "       'B', 'TC', 'FIO2','SESSO','DATA', 'ETA']]\n",
    "\n",
    "df_corr['DATA'] = pd.to_datetime(df_corr['DATA'])\n",
    "\n",
    "# Estrae il giorno dell'anno\n",
    "df_corr['day_of_year'] = df_corr['DATA'].apply(lambda x: x.timetuple().tm_yday)\n",
    "df_corr['sin_day'] = np.sin(2 * np.pi * df_corr['day_of_year'] / 365)\n",
    "df_corr['cos_day'] = np.cos(2 * np.pi * df_corr['day_of_year'] / 365)\n",
    "\n",
    "# df_corr = df[['SESSO', 'ETA', 'PO2_T', 'P50_ACT', 'TO2', 'PO21', 'SO21', 'HCT', 'AG_K', 'THB', 'THB2', 'GLU', 'LAC', \n",
    "#            'HCO3', 'PCO2_T', 'PCO2', 'MOSM', 'KP', 'NA', 'CL', 'CBASE', 'METHB', 'PHT', 'PH', 'O2HB', 'COHB', \n",
    "#            'RHB', 'B', 'TC', 'FIO2', 'P50_ST', \"y\"]]\n",
    "\n",
    "# df_corr = df[['SESSO', 'ETA', 'PF', 'PO2_T', 'P50_ACT', 'TO2', 'PO21', 'SO21', 'HCT',\n",
    "    #    'AG_K', 'THB', 'THB2', 'GLU', 'LAC', 'HCO3', 'PCO2_T', 'PCO2', 'MOSM',\n",
    "    #    'KP', 'NA', 'CL', 'CBASE', 'METHB', 'PHT', 'PH', 'O2HB', 'COHB', 'RHB',\n",
    "    #    'B', 'TC', 'FIO2', 'class_symptom', 'y']]\n",
    "\n",
    "#df_corr = df_corr.drop(columns=[\"PO21\", \"HCT\", \"PCO2\", \"PHT\"])\n",
    "\n",
    "df_corr = df_corr.drop(columns=[\"SESSO\", \"DATA\", \"day_of_year\"])\n",
    "\n",
    "for col in list(df_corr.columns):\n",
    "    df_corr = df_corr.loc[df_corr[col] !='.....']\n",
    "    df_corr[col] = df_corr[col].astype(float)\n",
    "    \n",
    "\n",
    "\n",
    "corr_matrix = df_corr.corr()\n",
    "\n",
    "# Creazione della heatmap colorata\n",
    "plt.figure(figsize=(16, 12))\n",
    "sns.heatmap(corr_matrix, annot=True,  fmt=\".2f\", cmap='coolwarm', vmin=-1, vmax=1, center=0, square=True, linewidths=0.5, cbar_kws={\"shrink\": 0.8})\n",
    "plt.title('Matrice di Correlazione')\n",
    "plt.show()"
   ]
  },
  {
   "cell_type": "code",
   "execution_count": null,
   "metadata": {},
   "outputs": [],
   "source": []
  },
  {
   "cell_type": "markdown",
   "metadata": {},
   "source": [
    "## Distribuzioni rispetto alle classi"
   ]
  },
  {
   "cell_type": "code",
   "execution_count": null,
   "metadata": {},
   "outputs": [],
   "source": [
    "features = [\n",
    "    'ETA', 'PF', 'PO2_T', 'P50_ACT', 'TO2', 'SO2', 'HCT', 'AG_K', \n",
    "    'THB', 'THB2', 'GLU', 'LAC', 'PO2', 'HCO3', 'PCO2_T', 'PCO2', \n",
    "    'MOSM', 'KP', 'NA', 'CL', 'CBASE', 'METHB', 'PHT', 'PH', \n",
    "    'O2HB', 'COHB', 'RHB', 'B', 'TC', 'FIO2'\n",
    "]\n",
    "\n",
    "feature_dropdown = widgets.Dropdown(\n",
    "    options=features,\n",
    "    value=features[0],\n",
    "    description='Feature:',\n",
    "    disabled=False,\n",
    ")\n",
    "\n",
    "def on_feature_change(change):\n",
    "    clear_output()\n",
    "    display(feature_dropdown)\n",
    "    if change['type'] == 'change' and change['name'] == 'value':\n",
    "        fig = plot_feature_distribution(df.sort_values(by=[\"y_desc\"]), change['new'])\n",
    "        display(fig, display_id=True)\n",
    "\n",
    "feature_dropdown.observe(on_feature_change, names='value')\n",
    "\n",
    "# Display initial plot\n",
    "on_feature_change({'type': 'change', 'name': 'value', 'new': features[0]})"
   ]
  },
  {
   "cell_type": "code",
   "execution_count": null,
   "metadata": {},
   "outputs": [],
   "source": [
    "features = [\n",
    "    'ETA',\n",
    "    'PF',\n",
    "    'PO2_T',\n",
    "    'P50_ACT',\n",
    "    'TO2',\n",
    "    'SO2',\n",
    "    'HCT',\n",
    "    # 'AG_K', \n",
    "    'THB',\n",
    "    'THB2',\n",
    "    # 'GLU',\n",
    "    'LAC',\n",
    "    'PO2',\n",
    "    # 'HCO3',\n",
    "    # 'PCO2_T',\n",
    "    # 'PCO2', \n",
    "    'MOSM',\n",
    "    'KP',\n",
    "    'NA',\n",
    "    'CL',\n",
    "    'CBASE',\n",
    "    'METHB',\n",
    "    'PHT',\n",
    "    'PH', \n",
    "    'O2HB',\n",
    "    'COHB',\n",
    "    'RHB',\n",
    "    'B',\n",
    "    'TC',\n",
    "    'FIO2'\n",
    "]"
   ]
  },
  {
   "cell_type": "markdown",
   "metadata": {},
   "source": [
    "### Trasformazioni di variabile"
   ]
  },
  {
   "cell_type": "code",
   "execution_count": null,
   "metadata": {},
   "outputs": [],
   "source": [
    "# # Copia del DataFrame\n",
    "# df_transformed = df.copy()\n",
    "\n",
    "# # Variabili con distribuzione sbilanciata a destra (Logaritmo normale)\n",
    "# df_transformed['O2HB'] = np.log1p(df_transformed['O2HB'])  # np.log1p gestisce automaticamente i valori nulli e zero\n",
    "\n",
    "# # Variabili con distribuzione sbilanciata a sinistra (logaritmo del valore negativo)\n",
    "# for col in ['COHB', 'GLU', 'LAC', 'P50_ACT', 'PF', 'PO2_T']:\n",
    "#     df_transformed[col] = np.log1p(-df_transformed[col])  # -df[col] per rendere positiva la distribuzione\n",
    "\n",
    "# # Normalizzazione Min-Max per le variabili indicate\n",
    "# scaler = MinMaxScaler()\n",
    "# cols_to_scale = ['B', 'CBASE', 'METHB', 'PHT', 'CL', 'NA', 'KP', 'HCO3', 'PCO2_T', 'MOSM', 'THB2', 'TO2', 'ETA']\n",
    "# df_transformed[cols_to_scale] = scaler.fit_transform(df_transformed[cols_to_scale])\n",
    "\n",
    "# # Trasformazione categorica\n",
    "# df_transformed['FIO2'] = df_transformed['FIO2'].astype('category')  # Converte in variabile categorica\n",
    "\n",
    "# # Arrotonda 'TC' a 0.5 e converte in categorico\n",
    "# df_transformed['TC'] = (df_transformed['TC'] / 0.5).round() * 0.5\n",
    "# df_transformed['TC'] = df_transformed['TC'].astype('category')"
   ]
  }
 ],
 "metadata": {
  "kernelspec": {
   "display_name": "clinicalprobenv",
   "language": "python",
   "name": "python3"
  },
  "language_info": {
   "codemirror_mode": {
    "name": "ipython",
    "version": 3
   },
   "file_extension": ".py",
   "mimetype": "text/x-python",
   "name": "python",
   "nbconvert_exporter": "python",
   "pygments_lexer": "ipython3",
   "version": "3.8.10"
  }
 },
 "nbformat": 4,
 "nbformat_minor": 2
}
