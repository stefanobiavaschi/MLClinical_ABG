{
 "cells": [
  {
   "cell_type": "markdown",
   "metadata": {},
   "source": [
    "# Notebook 04: Test inference with .pkl file"
   ]
  },
  {
   "cell_type": "code",
   "execution_count": null,
   "metadata": {},
   "outputs": [],
   "source": [
    "import pandas as pd\n",
    "\n",
    "import pickle\n",
    "import numpy as np\n",
    "\n",
    "import mlflow\n",
    "\n",
    "import os\n",
    "import sys\n",
    "\n",
    "sys.path.append(os.path.abspath(os.path.join(os.path.dirname(\"notebooks\"), '..')))"
   ]
  },
  {
   "cell_type": "markdown",
   "metadata": {},
   "source": [
    "### Load model from file .pkl saved"
   ]
  },
  {
   "cell_type": "code",
   "execution_count": null,
   "metadata": {},
   "outputs": [],
   "source": [
    "model_name = \"20240811_xgboost\""
   ]
  },
  {
   "cell_type": "code",
   "execution_count": null,
   "metadata": {},
   "outputs": [],
   "source": [
    "with open(f\"../models/{model_name}.pkl\", \"rb\") as file:\n",
    "    model_loaded = pickle.load(file)"
   ]
  },
  {
   "cell_type": "code",
   "execution_count": null,
   "metadata": {},
   "outputs": [],
   "source": [
    "# Valori di input:\n",
    "#  'PO2_T', 'P50_ACT', 'TO2', 'PO21', 'SO21', 'HCT', 'AG_K', 'THB', 'THB2',\n",
    "#  'GLU', 'LAC', 'HCO3', 'PCO2_T', 'PCO2', 'MOSM', 'KP', 'NA', 'CL', 'CBASE',\n",
    "#  'METHB', 'PHT', 'PH', 'O2HB', 'COHB', 'RHB', 'B', 'TC', 'FIO2', 'P50_ST'\n",
    "\n",
    "input_values = [ 3.960e+01,  2.941e+01,  1.280e+01,  4.250e+01,  7.340e+01,\n",
    "        3.880e+01,  1.210e+01,  1.260e+01,  1.260e+01,  1.110e+02,\n",
    "        1.600e+00,  2.240e+01,  3.180e+01,  3.340e+01,  2.894e+02,\n",
    "        4.200e+00,  1.420e+02,  1.110e+02, -1.200e+00,  6.000e-01,\n",
    "        7.456e+00,  7.441e+00,  7.210e+01,  1.200e+00,  2.610e+01,\n",
    "        7.490e+02,  3.600e+01,  2.100e+01,  2.685e+01]"
   ]
  },
  {
   "cell_type": "code",
   "execution_count": null,
   "metadata": {},
   "outputs": [],
   "source": [
    "input_array = np.array(input_values).reshape(1, -1)\n",
    "\n",
    "prediction = model_loaded.predict(input_array)\n",
    "prediction[0]"
   ]
  },
  {
   "cell_type": "markdown",
   "metadata": {},
   "source": [
    "### Load model from MLFlow"
   ]
  },
  {
   "cell_type": "code",
   "execution_count": null,
   "metadata": {},
   "outputs": [],
   "source": [
    "mlflow.set_tracking_uri(uri=\"http://127.0.0.1:8080\")\n",
    "\n",
    "model_uri = 'runs:/f329e11e8d7246f38596a270364c7fa3/model_mlclinicalprob'\n",
    "\n",
    "loaded_model = mlflow.pyfunc.load_model( model_uri )"
   ]
  },
  {
   "cell_type": "code",
   "execution_count": null,
   "metadata": {},
   "outputs": [],
   "source": [
    "# Definisci i nomi delle colonne attesi dal modello\n",
    "colonne = ['SESSO', 'ETA', 'PO2_T', 'P50_ACT', 'TO2', 'PO21', 'SO21', 'HCT', 'AG_K', 'THB', 'THB2', 'GLU', 'LAC', \n",
    "           'HCO3', 'PCO2_T', 'PCO2', 'MOSM', 'KP', 'NA', 'CL', 'CBASE', 'METHB', 'PHT', 'PH', 'O2HB', 'COHB', \n",
    "           'RHB', 'B', 'TC', 'FIO2', 'P50_ST']\n",
    "\n",
    "# Crea un DataFrame con i tuoi dati\n",
    "dati = pd.DataFrame([['M', 43, 24.6, 29.29, 9.5, 26.4, 43.3, 49.2, 12.4, 16.1, 16.1, 132.0, 3.4, 26.4, 48.9, 51.3, \n",
    "                      291.1, 3.6, 142.0, 107.0, 1.2, 1.0, 7.347, 7.332, 42.1, 1.7, 55.2, 741.0, 36.0, 21.0, 26.85]], \n",
    "                     columns=colonne)\n",
    "\n",
    "dati['ETA'] = dati['ETA'].astype(np.int32)"
   ]
  },
  {
   "cell_type": "code",
   "execution_count": null,
   "metadata": {},
   "outputs": [],
   "source": [
    "prediction = loaded_model.predict(dati)\n",
    "prediction[0]"
   ]
  }
 ],
 "metadata": {
  "kernelspec": {
   "display_name": "Python 3",
   "language": "python",
   "name": "python3"
  },
  "language_info": {
   "codemirror_mode": {
    "name": "ipython",
    "version": 3
   },
   "file_extension": ".py",
   "mimetype": "text/x-python",
   "name": "python",
   "nbconvert_exporter": "python",
   "pygments_lexer": "ipython3",
   "version": "3.8.10"
  }
 },
 "nbformat": 4,
 "nbformat_minor": 2
}
